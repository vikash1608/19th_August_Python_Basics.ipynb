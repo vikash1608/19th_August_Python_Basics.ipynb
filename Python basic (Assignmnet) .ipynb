{
 "cells": [
  {
   "cell_type": "markdown",
   "id": "dee2f749-6620-4b89-a21b-e790303ecef8",
   "metadata": {},
   "source": [
    "1. Declare two variables, `x` and `y`, and assign them integer values. Swap the\n",
    "values of these variables without using any temporary variable."
   ]
  },
  {
   "cell_type": "code",
   "execution_count": 2,
   "id": "9fa9654d-f005-419b-af03-bdb9f6624347",
   "metadata": {},
   "outputs": [],
   "source": [
    "# First step: assign the variable "
   ]
  },
  {
   "cell_type": "code",
   "execution_count": 5,
   "id": "fc0cd4cc-3281-4fa7-9cd4-796b89cd95bc",
   "metadata": {},
   "outputs": [],
   "source": [
    "x= 10\n",
    "y= 20 \n",
    "\n"
   ]
  },
  {
   "cell_type": "code",
   "execution_count": 6,
   "id": "7264611a-4182-4874-94d7-acb8971a07a0",
   "metadata": {},
   "outputs": [
    {
     "data": {
      "text/plain": [
       "10"
      ]
     },
     "execution_count": 6,
     "metadata": {},
     "output_type": "execute_result"
    }
   ],
   "source": [
    "x"
   ]
  },
  {
   "cell_type": "code",
   "execution_count": 7,
   "id": "9bf105d0-b115-4c34-9cc3-74e57f2c73cb",
   "metadata": {},
   "outputs": [
    {
     "data": {
      "text/plain": [
       "20"
      ]
     },
     "execution_count": 7,
     "metadata": {},
     "output_type": "execute_result"
    }
   ],
   "source": [
    "y\n",
    "# swapping the variable using a temporary variable "
   ]
  },
  {
   "cell_type": "code",
   "execution_count": 8,
   "id": "3749a1bd-493b-4cef-bdd3-ed06fcfcf283",
   "metadata": {},
   "outputs": [],
   "source": [
    "x, y = y, x"
   ]
  },
  {
   "cell_type": "code",
   "execution_count": 9,
   "id": "3f8755b8-b50d-4c24-a5d6-9ce04e67a2fd",
   "metadata": {},
   "outputs": [
    {
     "data": {
      "text/plain": [
       "20"
      ]
     },
     "execution_count": 9,
     "metadata": {},
     "output_type": "execute_result"
    }
   ],
   "source": [
    "x"
   ]
  },
  {
   "cell_type": "code",
   "execution_count": 10,
   "id": "7041abbf-bdb6-4ec6-99c5-2cc91b5c25c5",
   "metadata": {},
   "outputs": [
    {
     "data": {
      "text/plain": [
       "10"
      ]
     },
     "execution_count": 10,
     "metadata": {},
     "output_type": "execute_result"
    }
   ],
   "source": [
    "y"
   ]
  },
  {
   "cell_type": "markdown",
   "id": "484df2a2-35d8-4c10-aa90-69fab0c1a390",
   "metadata": {},
   "source": [
    "Create a program that calculates the area of a rectangle. Take the length and\n",
    "width as inputs from the user and store them in variables. Calculate and\n",
    "display the area."
   ]
  },
  {
   "cell_type": "code",
   "execution_count": 11,
   "id": "e0607bb1-b9ef-4736-a4b4-499a8a3c27fa",
   "metadata": {},
   "outputs": [],
   "source": [
    "# First get the input \n",
    "# calculate the area of rectangle \n",
    "# print the area to display the value "
   ]
  },
  {
   "cell_type": "code",
   "execution_count": 18,
   "id": "a19a6c4c-ccb2-4175-8faf-e7105f58e3ba",
   "metadata": {},
   "outputs": [
    {
     "name": "stdin",
     "output_type": "stream",
     "text": [
      "enter length of rectangle 3\n",
      "enter width of rectangle 2\n"
     ]
    },
    {
     "name": "stdout",
     "output_type": "stream",
     "text": [
      "area of rectangle is 6.0\n"
     ]
    }
   ],
   "source": [
    "length = float(input(\"enter length of rectangle\"))\n",
    "width = float(input(\"enter width of rectangle\"))\n",
    "area = length * width \n",
    "\n",
    "print(\"area of rectangle is\" ,area)"
   ]
  },
  {
   "cell_type": "markdown",
   "id": "b35c457c-250f-4511-9bd8-a1a69121ccf7",
   "metadata": {},
   "source": [
    "Write a Python program that converts temperatures from Celsius to\n",
    "Fahrenheit. Take the temperature in Celsius as input, store it in a variable,\n",
    "convert it to Fahrenheit, and display the result."
   ]
  },
  {
   "cell_type": "code",
   "execution_count": 19,
   "id": "c1fcfb34-1e2c-493e-ae00-acd33b13877c",
   "metadata": {},
   "outputs": [],
   "source": [
    "# get the temperature as input in celcius as a variable \n",
    "# write the logic to convert in Farenheit\n",
    "# display the result in farenheit "
   ]
  },
  {
   "cell_type": "code",
   "execution_count": null,
   "id": "1be9428f-be96-46f6-88c5-61b19d886846",
   "metadata": {},
   "outputs": [],
   "source": [
    "temperature_celcius= float(input(\"enter the temperature in celcius\"))\n",
    "temperature_farenheit \n",
    "    \n",
    "                                 "
   ]
  }
 ],
 "metadata": {
  "kernelspec": {
   "display_name": "Python 3 (ipykernel)",
   "language": "python",
   "name": "python3"
  },
  "language_info": {
   "codemirror_mode": {
    "name": "ipython",
    "version": 3
   },
   "file_extension": ".py",
   "mimetype": "text/x-python",
   "name": "python",
   "nbconvert_exporter": "python",
   "pygments_lexer": "ipython3",
   "version": "3.10.8"
  }
 },
 "nbformat": 4,
 "nbformat_minor": 5
}
